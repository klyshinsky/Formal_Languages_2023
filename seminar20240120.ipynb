{
 "cells": [
  {
   "cell_type": "code",
   "execution_count": 1,
   "id": "82cfad48-0725-4d40-a6cf-e2695762ed8f",
   "metadata": {},
   "outputs": [],
   "source": [
    "import requests"
   ]
  },
  {
   "cell_type": "code",
   "execution_count": 2,
   "id": "2d2229b9-4263-4203-be03-76edd4606138",
   "metadata": {},
   "outputs": [],
   "source": [
    "page = requests.get(\"https://www.wikipedia.org/\")"
   ]
  },
  {
   "cell_type": "code",
   "execution_count": 31,
   "id": "235e8c83-0c81-4f2c-bb80-e72a7a18caff",
   "metadata": {},
   "outputs": [
    {
     "data": {
      "text/plain": [
       "'<!DOCTYPE html>\\n<html lang=\"en\" class=\"no-js\">\\n<head>\\n<meta charset=\"utf-8\">\\n<title>Wikipedia</title>\\n<meta name=\"description\" content=\"Wikipedia is a free online encyclopedia, created and edited by volunteers around the world and hosted by the Wikimedia Foundation.\">\\n<script>\\ndocument.documentElement.className = document.documentElement.className.replace( /(^|\\\\s)no-js(\\\\s|$)/, \"$1js-enabled$2\" );\\n</script>\\n<meta name=\"viewport\" content=\"initial-scale=1,user-scalable=yes\">\\n<link rel=\"apple-touch-'"
      ]
     },
     "execution_count": 31,
     "metadata": {},
     "output_type": "execute_result"
    }
   ],
   "source": [
    "page.text[:500]"
   ]
  },
  {
   "cell_type": "code",
   "execution_count": 9,
   "id": "7fb8fa62-9535-45c1-9b72-9f9788677ec2",
   "metadata": {},
   "outputs": [],
   "source": [
    "html_str = page.text[16:]"
   ]
  },
  {
   "cell_type": "markdown",
   "id": "a6752b2b-ff22-41cf-98c8-62ca15f5a0a2",
   "metadata": {},
   "source": [
    "(\"html\", [(\"head\", [(\"meta\", []), (\"meta\", [])]), (\"body\", [])])"
   ]
  },
  {
   "cell_type": "code",
   "execution_count": 58,
   "id": "95ceece7-2b1f-4a86-87c7-531ca263a625",
   "metadata": {},
   "outputs": [],
   "source": [
    "def get_tag(in_html: str, pos: int) -> (str, int):\n",
    "    if pos >= len(in_html):\n",
    "        print(\"out of the string\")\n",
    "        return None, pos\n",
    "    if in_html[pos] != '<':\n",
    "        print(\"not a tag\")\n",
    "        return None, pos\n",
    "    pos += 1\n",
    "    tag = \"\"\n",
    "    pos_1 = pos\n",
    "    while pos < len(in_html) and in_html[pos] not in ['>', ' ']:\n",
    "        pos += 1\n",
    "    if pos >= len(in_html):\n",
    "        return None, pos\n",
    "    tag = in_html[pos_1: pos]\n",
    "    while pos < len(in_html) and in_html[pos] != '>':\n",
    "        pos += 1\n",
    "    if pos >= len(in_html):\n",
    "        return None, pos\n",
    "    # To Do: Самозакрывающийся тег!!!\n",
    "    # print(\"tag\", tag)\n",
    "    return tag, pos+1\n",
    "    \n",
    "self_closing = ['meta', 'br']\n",
    "    \n",
    "def get_html_hie(in_html: str, pos: int, parent: str):\n",
    "    # print(\"parent\", parent)\n",
    "    res = []\n",
    "    while pos < len(in_html):\n",
    "        while pos < len(in_html) and in_html[pos] != '<':\n",
    "            pos += 1\n",
    "        if pos >= len(in_html):\n",
    "            return res\n",
    "        t, pos = get_tag(s, pos)\n",
    "        if t == f'/{parent}':\n",
    "            break\n",
    "        elif t not in self_closing:\n",
    "            # print(\"not in\", t)\n",
    "            r, pos = get_html_hie(in_html, pos, t)\n",
    "            res.append((t, r))\n",
    "            # print('--', res)\n",
    "        else:\n",
    "            # print(\"in\", t)\n",
    "            res.append((t, []))\n",
    "\n",
    "    \n",
    "    # print(res)\n",
    "    return res, pos\n",
    "    "
   ]
  },
  {
   "cell_type": "code",
   "execution_count": 63,
   "id": "f1b6f7cf-0f2b-4bd2-a1ea-744b7ca31d81",
   "metadata": {},
   "outputs": [
    {
     "data": {
      "text/plain": [
       "[('title', [('meta', []), ('p', [('i', [])])])]"
      ]
     },
     "execution_count": 63,
     "metadata": {},
     "output_type": "execute_result"
    }
   ],
   "source": [
    "pos = 0\n",
    "s = '<title \"asd\"=345>asdf<meta \"a\"=\"s\">sadf <p>se<i>fd</i></p> sadf </title>  '\n",
    "get_html_hie(s, pos, \"\")"
   ]
  },
  {
   "cell_type": "code",
   "execution_count": 30,
   "id": "c1c8b724-56f6-411c-8eb1-717fe043a4ac",
   "metadata": {},
   "outputs": [
    {
     "name": "stdout",
     "output_type": "stream",
     "text": [
      "asdf\n",
      "/qwer\n",
      "not a tag\n",
      "None\n"
     ]
    }
   ],
   "source": [
    "pos = 0\n",
    "s = '<asdf \"asd\"=345></qwer>  '\n",
    "while pos < len(s):\n",
    "    t, pos = get_tag(s, pos)\n",
    "    print(t)\n",
    "    if not t:\n",
    "        break"
   ]
  },
  {
   "cell_type": "code",
   "execution_count": null,
   "id": "ac60719a-29e2-486e-ad02-aff373c2bf8a",
   "metadata": {},
   "outputs": [],
   "source": []
  },
  {
   "cell_type": "code",
   "execution_count": null,
   "id": "7b0ce5eb-7e19-4a5e-9937-14a2bd81fc36",
   "metadata": {},
   "outputs": [],
   "source": []
  },
  {
   "cell_type": "code",
   "execution_count": null,
   "id": "4aac2af8-eaf3-4020-b84f-2615c655aba7",
   "metadata": {},
   "outputs": [],
   "source": []
  },
  {
   "cell_type": "code",
   "execution_count": 73,
   "id": "f5a21149-221e-44c9-bd63-e6a593fb6fcf",
   "metadata": {},
   "outputs": [],
   "source": [
    "from antlr4 import *\n",
    "import sys"
   ]
  },
  {
   "cell_type": "code",
   "execution_count": 71,
   "id": "e8b9de2c-5ad2-4d0e-8222-6e35cab84132",
   "metadata": {},
   "outputs": [],
   "source": [
    "!cd \"/home/edward/papers/kourses/Advanced Python/Linguists/Scientific Programming/antlr_grammars\" && \\\n",
    "java -Xmx500M -cp \"/usr/local/lib/antlr-4.13.1-complete.jar\" org.antlr.v4.Tool -Dlanguage=Python3 -o outputs seminar.g4"
   ]
  },
  {
   "cell_type": "code",
   "execution_count": 74,
   "id": "dbb2605b-496b-46e7-b030-32b778686964",
   "metadata": {},
   "outputs": [
    {
     "ename": "ModuleNotFoundError",
     "evalue": "No module named 'antlr_grammars'",
     "output_type": "error",
     "traceback": [
      "\u001b[0;31m---------------------------------------------------------------------------\u001b[0m",
      "\u001b[0;31mModuleNotFoundError\u001b[0m                       Traceback (most recent call last)",
      "\u001b[0;32m/tmp/ipykernel_340066/3892483462.py\u001b[0m in \u001b[0;36m<module>\u001b[0;34m\u001b[0m\n\u001b[1;32m      3\u001b[0m \u001b[0;32mif\u001b[0m \u001b[0;34m'antlr_grammars.outputs.seminarParser'\u001b[0m \u001b[0;32min\u001b[0m \u001b[0msys\u001b[0m\u001b[0;34m.\u001b[0m\u001b[0mmodules\u001b[0m\u001b[0;34m:\u001b[0m\u001b[0;34m\u001b[0m\u001b[0;34m\u001b[0m\u001b[0m\n\u001b[1;32m      4\u001b[0m     \u001b[0;32mdel\u001b[0m \u001b[0msys\u001b[0m\u001b[0;34m.\u001b[0m\u001b[0mmodules\u001b[0m\u001b[0;34m[\u001b[0m\u001b[0;34m'antlr_grammars.outputs.seminarParser'\u001b[0m\u001b[0;34m]\u001b[0m\u001b[0;34m\u001b[0m\u001b[0;34m\u001b[0m\u001b[0m\n\u001b[0;32m----> 5\u001b[0;31m \u001b[0;32mfrom\u001b[0m \u001b[0mantlr_grammars\u001b[0m\u001b[0;34m.\u001b[0m\u001b[0moutputs\u001b[0m\u001b[0;34m.\u001b[0m\u001b[0mseminarLexer\u001b[0m \u001b[0;32mimport\u001b[0m \u001b[0mseminarLexer\u001b[0m\u001b[0;34m\u001b[0m\u001b[0;34m\u001b[0m\u001b[0m\n\u001b[0m\u001b[1;32m      6\u001b[0m \u001b[0;32mfrom\u001b[0m \u001b[0mantlr_grammars\u001b[0m\u001b[0;34m.\u001b[0m\u001b[0moutputs\u001b[0m\u001b[0;34m.\u001b[0m\u001b[0mseminarParser\u001b[0m \u001b[0;32mimport\u001b[0m \u001b[0mseminarParser\u001b[0m\u001b[0;34m\u001b[0m\u001b[0;34m\u001b[0m\u001b[0m\n",
      "\u001b[0;31mModuleNotFoundError\u001b[0m: No module named 'antlr_grammars'"
     ]
    }
   ],
   "source": [
    "if 'antlr_grammars.outputs.seminarLexer' in sys.modules:  \n",
    "    del sys.modules['antlr_grammars.outputs.seminarLexer']\n",
    "if 'antlr_grammars.outputs.seminarParser' in sys.modules:  \n",
    "    del sys.modules['antlr_grammars.outputs.seminarParser']\n",
    "from antlr_grammars.outputs.seminarLexer import seminarLexer\n",
    "from antlr_grammars.outputs.seminarParser import seminarParser"
   ]
  }
 ],
 "metadata": {
  "kernelspec": {
   "display_name": "Python 3 (ipykernel)",
   "language": "python",
   "name": "python3"
  },
  "language_info": {
   "codemirror_mode": {
    "name": "ipython",
    "version": 3
   },
   "file_extension": ".py",
   "mimetype": "text/x-python",
   "name": "python",
   "nbconvert_exporter": "python",
   "pygments_lexer": "ipython3",
   "version": "3.10.12"
  }
 },
 "nbformat": 4,
 "nbformat_minor": 5
}
